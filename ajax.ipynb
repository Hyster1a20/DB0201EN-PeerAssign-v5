{
 "cells": [
  {
   "cell_type": "code",
   "execution_count": null,
   "metadata": {},
   "outputs": [],
   "source": [
    "SELECT *\n",
    "FROM crime_data\n",
    "WHERE crime_type = 'Kidnapping' AND victim_age <= 18;"
   ]
  },
  {
   "cell_type": "code",
   "execution_count": null,
   "metadata": {},
   "outputs": [],
   "source": [
    "SELECT DISTINCT crime_type\n",
    "FROM crime_data\n",
    "WHERE location_description LIKE '%School%';"
   ]
  },
  {
   "cell_type": "code",
   "execution_count": null,
   "metadata": {},
   "outputs": [],
   "source": [
    "SELECT school_type, AVG(safety_score) AS average_safety_score\n",
    "FROM schools\n",
    "GROUP BY school_type;"
   ]
  },
  {
   "cell_type": "code",
   "execution_count": null,
   "metadata": {},
   "outputs": [],
   "source": [
    "SELECT community_area_name, percent_households_below_poverty\n",
    "FROM community_areas\n",
    "ORDER BY percent_households_below_poverty DESC\n",
    "LIMIT 5;"
   ]
  },
  {
   "cell_type": "code",
   "execution_count": null,
   "metadata": {},
   "outputs": [],
   "source": [
    "SELECT community_area_number, COUNT(*) AS crime_count\n",
    "FROM crime_data\n",
    "GROUP BY community_area_number\n",
    "ORDER BY crime_count DESC\n",
    "LIMIT 1;"
   ]
  },
  {
   "cell_type": "code",
   "execution_count": null,
   "metadata": {},
   "outputs": [],
   "source": [
    "SELECT community_area_name\n",
    "FROM community_areas\n",
    "WHERE hardship_index = (\n",
    "    SELECT MAX(hardship_index)\n",
    "    FROM community_areas\n",
    ");"
   ]
  },
  {
   "cell_type": "code",
   "execution_count": null,
   "metadata": {},
   "outputs": [],
   "source": [
    "SELECT community_area_name\n",
    "FROM community_areas\n",
    "WHERE community_area_number = (\n",
    "    SELECT community_area_number\n",
    "    FROM crime_data\n",
    "    GROUP BY community_area_number\n",
    "    ORDER BY COUNT(*) DESC\n",
    "    LIMIT 1\n",
    ");"
   ]
  }
 ],
 "metadata": {
  "kernelspec": {
   "display_name": "Python 3",
   "language": "python",
   "name": "python3"
  },
  "language_info": {
   "codemirror_mode": {
    "name": "ipython",
    "version": 3
   },
   "file_extension": ".py",
   "mimetype": "text/x-python",
   "name": "python",
   "nbconvert_exporter": "python",
   "pygments_lexer": "ipython3",
   "version": "3.11.3"
  },
  "orig_nbformat": 4
 },
 "nbformat": 4,
 "nbformat_minor": 2
}
