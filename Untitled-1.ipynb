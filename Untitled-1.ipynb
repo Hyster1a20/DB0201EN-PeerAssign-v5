{
 "cells": "code" ,
  {
   "cell_type": "markdown",
   "metadata": {},
   "source": [
    "## EXERCISE 1 , QUESTION 1 :"
   ]
  },
  {
   "cell_type": "code",
   "execution_count": 2,
   "metadata": {},
   "outputs": [
    {
     "ename": "SyntaxError",
     "evalue": "invalid syntax (234483956.py, line 1)",
     "output_type": "error",
     "traceback": [
      "\u001b[1;36m  Cell \u001b[1;32mIn[2], line 1\u001b[1;36m\u001b[0m\n\u001b[1;33m    SELECT S.\"School_Name\", C.\"Community_Name\", AVG(S.\"Average_Attendance\")\u001b[0m\n\u001b[1;37m           ^\u001b[0m\n\u001b[1;31mSyntaxError\u001b[0m\u001b[1;31m:\u001b[0m invalid syntax\n"
     ]
    }
   ],
   "source": [
    "SELECT S.\"School_Name\", C.\"Community_Name\", AVG(S.\"Average_Attendance\")\n",
    "FROM \"SCHOOLS\" S\n",
    "JOIN \"COMMUNITY\" C ON S.\"Community_Area_Number\" = C.\"Community_Area_Number\"\n",
    "WHERE C.\"Hardship_Index\" = 98\n",
    "GROUP BY S.\"School_Name\", C.\"Community_Name\";"
   ]
  },
  {
   "cell_type": "markdown",
   "metadata": {},
   "source": [
    "## EXERCISE 1 , QUESTION 2 :"
   ]
  },
  {
   "cell_type": "code",
   "execution_count": null,
   "metadata": {},
   "outputs": [],
   "source": [
    "SELECT CR.\"Case_Number\", CR.\"Primary_Type\", C.\"Community_Name\"\n",
    "FROM \"CRIMES\" CR\n",
    "JOIN \"COMMUNITY\" C ON CR.\"Community_Area_Number\" = C.\"Community_Area_Number\"\n",
    "WHERE CR.\"Location_Description\" LIKE '%SCHOOL%';"
   ]
  },
  {
   "cell_type": "markdown",
   "metadata": {},
   "source": [
    "## EXERCISE 2 , QUESTION 1 :"
   ]
  },
  {
   "cell_type": "code",
   "execution_count": null,
   "metadata": {},
   "outputs": [
    {
     "ename": "SyntaxError",
     "evalue": "invalid syntax (4152526898.py, line 1)",
     "output_type": "error",
     "traceback": [
      "\u001b[1;36m  Cell \u001b[1;32mIn[1], line 1\u001b[1;36m\u001b[0m\n\u001b[1;33m    SELECT \"School_Name\", \"Leaders_Icon\"\u001b[0m\n\u001b[1;37m           ^\u001b[0m\n\u001b[1;31mSyntaxError\u001b[0m\u001b[1;31m:\u001b[0m invalid syntax\n"
     ]
    }
   ],
   "source": [
    "SELECT \"School_Name\", \"Leaders_Icon\"\n",
    "FROM your_view_name;"
   ]
  },
  {
   "cell_type": "markdown",
   "metadata": {},
   "source": [
    "## Exercise 3, Question 2:\n",
    "\n",
    "#### Inside your stored procedure, write a SQL statement to update the Leaders Score field in the CHICAGO PUBLIC SCHOOLS table for the school Identified by in School ID to the value in the in Leader Score parameter."
   ]
  },
  {
   "cell_type": "code",
   "execution_count": null,
   "metadata": {},
   "outputs": [],
   "source": [
    "DELIMITER $$\n",
    "CREATE OR REPLACE PROCEDURE UPDATE_LEADER_SCORE (\n",
    "    IN School_ID INT,\n",
    "    IN Leader_Score INT\n",
    ")\n",
    "BEGIN\n",
    "    UPDATE \"CHICAGO_PUBLIC_SCHOOLS\"\n",
    "    SET \"Leaders_Score\" = Leader_Score\n",
    "    WHERE \"School_ID\" = School_ID;\n",
    "END$$\n",
    "DELIMITER ;\n"
   ]
  },
  {
   "cell_type": "markdown",
   "metadata": {},
   "source": [
    "## Exercise 3, Question 3:\n",
    "\n",
    "#### Inside your stored procedure, write a SQL IF statement to update the Leaders Icon field in the CHICAGO PUBLIC SCHOOLS table for the school identified by in School ID using the following information."
   ]
  },
  {
   "cell_type": "code",
   "execution_count": null,
   "metadata": {},
   "outputs": [],
   "source": [
    "DELIMITER $$\n",
    "CREATE OR REPLACE PROCEDURE UPDATE_LEADER_SCORE (\n",
    "    IN School_ID INT,\n",
    "    IN Leader_Score INT\n",
    ")\n",
    "BEGIN\n",
    "    IF Leader_Score >= 90 THEN\n",
    "        UPDATE \"CHICAGO_PUBLIC_SCHOOLS\"\n",
    "        SET \"Leaders_Icon\" = 'High'\n",
    "        WHERE \"School_ID\" = School_ID;\n",
    "    ELSEIF Leader_Score >= 70 THEN\n",
    "        UPDATE \"CHICAGO_PUBLIC_SCHOOLS\"\n",
    "        SET \"Leaders_Icon\" = 'Moderate'\n",
    "        WHERE \"School_ID\" = School_ID;\n",
    "    ELSE\n",
    "        UPDATE \"CHICAGO_PUBLIC_SCHOOLS\"\n",
    "        SET \"Leaders_Icon\" = 'Low'\n",
    "        WHERE \"School_ID\" = School_ID;\n",
    "    END IF;\n",
    "END$$\n",
    "DELIMITER ;"
   ]
  },
  {
   "cell_type": "markdown",
   "metadata": {},
   "source": [
    "## Exercise 3, Question 4:\n",
    "\n",
    "#### Run your code to create the stored procedure"
   ]
  },
  {
   "cell_type": "code",
   "execution_count": null,
   "metadata": {},
   "outputs": [],
   "source": []
  },
  {
   "cell_type": "markdown",
   "metadata": {},
   "source": [
    "## Exercise 4, Question 1:\n",
    "\n",
    "#### Update your stored procedure definition. Add a generic ELSE clause to the IF statement that rolls back the current work if the score did not fit any of the preceding categories."
   ]
  },
  {
   "cell_type": "code",
   "execution_count": null,
   "metadata": {},
   "outputs": [],
   "source": [
    "\n",
    "```sql\n",
    "DELIMITER $$\n",
    "CREATE OR REPLACE PROCEDURE UPDATE_LEADER_SCORE (\n",
    "    IN School_ID INT,\n",
    "    IN Leader_Score INT\n",
    ")\n",
    "BEGIN\n",
    "    DECLARE EXIT HANDLER FOR SQLEXCEPTION\n",
    "    BEGIN\n",
    "        ROLLBACK;\n",
    "    END;\n",
    "\n",
    "    START TRANSACTION;\n",
    "\n",
    "    IF Leader_Score >= 90 THEN\n",
    "        UPDATE \"CHICAGO_PUBLIC_SCHOOLS\"\n",
    "        SET \"Leaders_Icon\" = 'High'\n",
    "        WHERE \"School_ID\" = School_ID;\n",
    "    ELSEIF Leader_Score >= 70 THEN\n",
    "        UPDATE \"CHICAGO_PUBLIC_SCHOOLS\"\n",
    "        SET \"Leaders_Icon\" = 'Moderate'\n",
    "        WHERE \"School_ID\" = School_ID;\n",
    "    ELSE\n",
    "        ROLLBACK;\n",
    "    END IF;\n",
    "\n",
    "    COMMIT;\n",
    "END$$\n",
    "DELIMITER ;\n"
   ]
  },
  {
   "cell_type": "markdown",
   "metadata": {},
   "source": [
    "## Exercise 4, Question 2:\n",
    "\n",
    "#### Update your stored procedure definition again, Add a statement to commit the current unit of work at the end of the procedure"
   ]
  },
  {
   "cell_type": "code",
   "execution_count": null,
   "metadata": {},
   "outputs": [],
   "source": [
    "DELIMITER $$\n",
    "CREATE OR REPLACE PROCEDURE UPDATE_LEADER_SCORE (\n",
    "    IN School_ID INT,\n",
    "    IN Leader_Score INT\n",
    ")\n",
    "BEGIN\n",
    "    DECLARE EXIT HANDLER FOR SQLEXCEPTION\n",
    "    BEGIN\n",
    "        ROLLBACK;\n",
    "    END;\n",
    "\n",
    "    START TRANSACTION;\n",
    "\n",
    "    IF Leader_Score >= 90 THEN\n",
    "        UPDATE \"CHICAGO_PUBLIC_SCHOOLS\"\n",
    "        SET \"Leaders_Icon\" = 'High'\n",
    "        WHERE \"School_ID\" = School_ID;\n",
    "    ELSEIF Leader_Score >= 70 THEN\n",
    "        UPDATE \"CHICAGO_PUBLIC_SCHOOLS\"\n",
    "        SET \"Leaders_Icon\" = 'Moderate'\n",
    "        WHERE \"School_ID\" = School_ID;\n",
    "    ELSE\n",
    "        ROLLBACK;\n",
    "    END IF;\n",
    "\n",
    "    COMMIT;\n",
    "END$$\n",
    "DELIMITER ;\n"
   ]
  }
 ],
 "metadata": {
  "kernelspec": {
   "display_name": "Python 3",
   "language": "python",
   "name": "python3"
  },
  "language_info": {
   "codemirror_mode": {
    "name": "ipython",
    "version": 3
   },
   "file_extension": ".py",
   "mimetype": "text/x-python",
   "name": "python",
   "nbconvert_exporter": "python",
   "pygments_lexer": "ipython3",
   "version": "3.11.3"
  },
  "orig_nbformat": 4
 },
 "nbformat": 4,
 "nbformat_minor": 2
}
